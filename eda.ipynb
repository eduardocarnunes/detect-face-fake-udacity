{
 "cells": [
  {
   "cell_type": "code",
   "execution_count": 1,
   "metadata": {},
   "outputs": [],
   "source": [
    "#libraries\n",
    "import pandas as pd\n",
    "import numpy as np"
   ]
  },
  {
   "cell_type": "code",
   "execution_count": 2,
   "metadata": {},
   "outputs": [],
   "source": [
    "%matplotlib inline"
   ]
  },
  {
   "cell_type": "code",
   "execution_count": 3,
   "metadata": {},
   "outputs": [
    {
     "data": {
      "text/html": [
       "<div>\n",
       "<style scoped>\n",
       "    .dataframe tbody tr th:only-of-type {\n",
       "        vertical-align: middle;\n",
       "    }\n",
       "\n",
       "    .dataframe tbody tr th {\n",
       "        vertical-align: top;\n",
       "    }\n",
       "\n",
       "    .dataframe thead th {\n",
       "        text-align: right;\n",
       "    }\n",
       "</style>\n",
       "<table border=\"1\" class=\"dataframe\">\n",
       "  <thead>\n",
       "    <tr style=\"text-align: right;\">\n",
       "      <th></th>\n",
       "      <th>label</th>\n",
       "      <th>0</th>\n",
       "      <th>1</th>\n",
       "      <th>2</th>\n",
       "      <th>3</th>\n",
       "      <th>4</th>\n",
       "      <th>5</th>\n",
       "      <th>6</th>\n",
       "      <th>7</th>\n",
       "      <th>8</th>\n",
       "      <th>...</th>\n",
       "      <th>118</th>\n",
       "      <th>119</th>\n",
       "      <th>120</th>\n",
       "      <th>121</th>\n",
       "      <th>122</th>\n",
       "      <th>123</th>\n",
       "      <th>124</th>\n",
       "      <th>125</th>\n",
       "      <th>126</th>\n",
       "      <th>127</th>\n",
       "    </tr>\n",
       "  </thead>\n",
       "  <tbody>\n",
       "    <tr>\n",
       "      <th>0</th>\n",
       "      <td>1</td>\n",
       "      <td>-0.121935</td>\n",
       "      <td>0.089078</td>\n",
       "      <td>0.086925</td>\n",
       "      <td>-0.026834</td>\n",
       "      <td>-0.079969</td>\n",
       "      <td>-0.040946</td>\n",
       "      <td>-0.032422</td>\n",
       "      <td>-0.071487</td>\n",
       "      <td>0.053138</td>\n",
       "      <td>...</td>\n",
       "      <td>0.013598</td>\n",
       "      <td>-0.003892</td>\n",
       "      <td>0.042109</td>\n",
       "      <td>-0.129107</td>\n",
       "      <td>-0.085559</td>\n",
       "      <td>-0.107445</td>\n",
       "      <td>0.102316</td>\n",
       "      <td>0.018145</td>\n",
       "      <td>0.008412</td>\n",
       "      <td>-0.002172</td>\n",
       "    </tr>\n",
       "    <tr>\n",
       "      <th>1</th>\n",
       "      <td>1</td>\n",
       "      <td>-0.125383</td>\n",
       "      <td>0.085029</td>\n",
       "      <td>0.089805</td>\n",
       "      <td>-0.025586</td>\n",
       "      <td>-0.075789</td>\n",
       "      <td>-0.043264</td>\n",
       "      <td>-0.030338</td>\n",
       "      <td>-0.071450</td>\n",
       "      <td>0.050375</td>\n",
       "      <td>...</td>\n",
       "      <td>0.017190</td>\n",
       "      <td>0.000827</td>\n",
       "      <td>0.046319</td>\n",
       "      <td>-0.125355</td>\n",
       "      <td>-0.081315</td>\n",
       "      <td>-0.109092</td>\n",
       "      <td>0.102183</td>\n",
       "      <td>0.007908</td>\n",
       "      <td>0.013604</td>\n",
       "      <td>-0.000046</td>\n",
       "    </tr>\n",
       "    <tr>\n",
       "      <th>2</th>\n",
       "      <td>1</td>\n",
       "      <td>-0.125813</td>\n",
       "      <td>0.099414</td>\n",
       "      <td>0.082949</td>\n",
       "      <td>-0.025627</td>\n",
       "      <td>-0.083318</td>\n",
       "      <td>-0.034495</td>\n",
       "      <td>-0.049426</td>\n",
       "      <td>-0.077006</td>\n",
       "      <td>0.047976</td>\n",
       "      <td>...</td>\n",
       "      <td>0.022209</td>\n",
       "      <td>0.005763</td>\n",
       "      <td>0.037214</td>\n",
       "      <td>-0.125608</td>\n",
       "      <td>-0.080381</td>\n",
       "      <td>-0.112964</td>\n",
       "      <td>0.094804</td>\n",
       "      <td>0.000814</td>\n",
       "      <td>0.019822</td>\n",
       "      <td>0.000518</td>\n",
       "    </tr>\n",
       "    <tr>\n",
       "      <th>3</th>\n",
       "      <td>1</td>\n",
       "      <td>-0.128035</td>\n",
       "      <td>0.094608</td>\n",
       "      <td>0.086290</td>\n",
       "      <td>-0.025369</td>\n",
       "      <td>-0.085028</td>\n",
       "      <td>-0.039680</td>\n",
       "      <td>-0.038525</td>\n",
       "      <td>-0.072504</td>\n",
       "      <td>0.053809</td>\n",
       "      <td>...</td>\n",
       "      <td>0.020182</td>\n",
       "      <td>-0.005562</td>\n",
       "      <td>0.050826</td>\n",
       "      <td>-0.126137</td>\n",
       "      <td>-0.072784</td>\n",
       "      <td>-0.107056</td>\n",
       "      <td>0.103355</td>\n",
       "      <td>0.008943</td>\n",
       "      <td>0.010794</td>\n",
       "      <td>-0.001526</td>\n",
       "    </tr>\n",
       "    <tr>\n",
       "      <th>4</th>\n",
       "      <td>1</td>\n",
       "      <td>-0.126465</td>\n",
       "      <td>0.104766</td>\n",
       "      <td>0.084307</td>\n",
       "      <td>-0.022250</td>\n",
       "      <td>-0.081839</td>\n",
       "      <td>-0.052946</td>\n",
       "      <td>-0.037108</td>\n",
       "      <td>-0.078719</td>\n",
       "      <td>0.053365</td>\n",
       "      <td>...</td>\n",
       "      <td>0.011951</td>\n",
       "      <td>0.003957</td>\n",
       "      <td>0.026934</td>\n",
       "      <td>-0.123601</td>\n",
       "      <td>-0.088361</td>\n",
       "      <td>-0.106947</td>\n",
       "      <td>0.098795</td>\n",
       "      <td>0.000205</td>\n",
       "      <td>0.030456</td>\n",
       "      <td>0.003871</td>\n",
       "    </tr>\n",
       "  </tbody>\n",
       "</table>\n",
       "<p>5 rows × 129 columns</p>\n",
       "</div>"
      ],
      "text/plain": [
       "   label         0         1         2         3         4         5  \\\n",
       "0      1 -0.121935  0.089078  0.086925 -0.026834 -0.079969 -0.040946   \n",
       "1      1 -0.125383  0.085029  0.089805 -0.025586 -0.075789 -0.043264   \n",
       "2      1 -0.125813  0.099414  0.082949 -0.025627 -0.083318 -0.034495   \n",
       "3      1 -0.128035  0.094608  0.086290 -0.025369 -0.085028 -0.039680   \n",
       "4      1 -0.126465  0.104766  0.084307 -0.022250 -0.081839 -0.052946   \n",
       "\n",
       "          6         7         8  ...       118       119       120       121  \\\n",
       "0 -0.032422 -0.071487  0.053138  ...  0.013598 -0.003892  0.042109 -0.129107   \n",
       "1 -0.030338 -0.071450  0.050375  ...  0.017190  0.000827  0.046319 -0.125355   \n",
       "2 -0.049426 -0.077006  0.047976  ...  0.022209  0.005763  0.037214 -0.125608   \n",
       "3 -0.038525 -0.072504  0.053809  ...  0.020182 -0.005562  0.050826 -0.126137   \n",
       "4 -0.037108 -0.078719  0.053365  ...  0.011951  0.003957  0.026934 -0.123601   \n",
       "\n",
       "        122       123       124       125       126       127  \n",
       "0 -0.085559 -0.107445  0.102316  0.018145  0.008412 -0.002172  \n",
       "1 -0.081315 -0.109092  0.102183  0.007908  0.013604 -0.000046  \n",
       "2 -0.080381 -0.112964  0.094804  0.000814  0.019822  0.000518  \n",
       "3 -0.072784 -0.107056  0.103355  0.008943  0.010794 -0.001526  \n",
       "4 -0.088361 -0.106947  0.098795  0.000205  0.030456  0.003871  \n",
       "\n",
       "[5 rows x 129 columns]"
      ]
     },
     "execution_count": 3,
     "metadata": {},
     "output_type": "execute_result"
    }
   ],
   "source": [
    "#read dataset \n",
    "df = pd.read_csv('dataset-all.csv')\n",
    "df.head()"
   ]
  },
  {
   "cell_type": "code",
   "execution_count": 4,
   "metadata": {},
   "outputs": [
    {
     "name": "stdout",
     "output_type": "stream",
     "text": [
      "(503, 129)\n"
     ]
    }
   ],
   "source": [
    "#print shape dataset\n",
    "print(df.shape)"
   ]
  },
  {
   "cell_type": "code",
   "execution_count": 5,
   "metadata": {},
   "outputs": [
    {
     "name": "stdout",
     "output_type": "stream",
     "text": [
      "Index(['label', '0', '1', '2', '3', '4', '5', '6', '7', '8',\n",
      "       ...\n",
      "       '118', '119', '120', '121', '122', '123', '124', '125', '126', '127'],\n",
      "      dtype='object', length=129)\n"
     ]
    }
   ],
   "source": [
    "#columns of dataset\n",
    "print(df.columns)"
   ]
  },
  {
   "cell_type": "code",
   "execution_count": 6,
   "metadata": {},
   "outputs": [
    {
     "name": "stdout",
     "output_type": "stream",
     "text": [
      "<class 'pandas.core.frame.DataFrame'>\n",
      "RangeIndex: 503 entries, 0 to 502\n",
      "Columns: 129 entries, label to 127\n",
      "dtypes: float64(128), int64(1)\n",
      "memory usage: 507.1 KB\n",
      "None\n"
     ]
    }
   ],
   "source": [
    "print(df.info())"
   ]
  },
  {
   "cell_type": "code",
   "execution_count": 7,
   "metadata": {},
   "outputs": [
    {
     "data": {
      "text/plain": [
       "156"
      ]
     },
     "execution_count": 7,
     "metadata": {},
     "output_type": "execute_result"
    }
   ],
   "source": [
    "# count real faces\n",
    "len(df[df['label'] == 1])"
   ]
  },
  {
   "cell_type": "code",
   "execution_count": 8,
   "metadata": {},
   "outputs": [
    {
     "data": {
      "text/plain": [
       "347"
      ]
     },
     "execution_count": 8,
     "metadata": {},
     "output_type": "execute_result"
    }
   ],
   "source": [
    "# count fake faces\n",
    "len(df[df['label'] == 0])"
   ]
  },
  {
   "cell_type": "code",
   "execution_count": 9,
   "metadata": {},
   "outputs": [
    {
     "data": {
      "text/plain": [
       "label    1.000000\n",
       "0       -0.006186\n",
       "1        0.210400\n",
       "2        0.159575\n",
       "3        0.046121\n",
       "           ...   \n",
       "123     -0.004952\n",
       "124      0.187091\n",
       "125      0.044562\n",
       "126      0.151347\n",
       "127      0.101931\n",
       "Length: 129, dtype: float64"
      ]
     },
     "execution_count": 9,
     "metadata": {},
     "output_type": "execute_result"
    }
   ],
   "source": [
    "df.apply(np.max)"
   ]
  },
  {
   "cell_type": "code",
   "execution_count": 10,
   "metadata": {},
   "outputs": [],
   "source": [
    "import seaborn as sns\n",
    "import matplotlib.pyplot as plt"
   ]
  },
  {
   "cell_type": "code",
   "execution_count": 11,
   "metadata": {},
   "outputs": [
    {
     "data": {
      "text/plain": [
       "<matplotlib.axes._subplots.AxesSubplot at 0x1d3bf0dc438>"
      ]
     },
     "execution_count": 11,
     "metadata": {},
     "output_type": "execute_result"
    },
    {
     "data": {
      "image/png": "[encoded data removed]",
      "text/plain": [
       "<Figure size 432x288 with 1 Axes>"
      ]
     },
     "metadata": {
      "needs_background": "light"
     },
     "output_type": "display_data"
    }
   ],
   "source": [
    "sns.distplot(df['0'])"
   ]
  },
  {
   "cell_type": "code",
   "execution_count": 16,
   "metadata": {},
   "outputs": [
    {
     "data": {
      "text/plain": [
       "<matplotlib.axes._subplots.AxesSubplot at 0x1d38b1116a0>"
      ]
     },
     "execution_count": 16,
     "metadata": {},
     "output_type": "execute_result"
    },
    {
     "data": {
      "image/png": "[encoded data removed]",
      "text/plain": [
       "<Figure size 432x288 with 1 Axes>"
      ]
     },
     "metadata": {
      "needs_background": "light"
     },
     "output_type": "display_data"
    }
   ],
   "source": [
    "sns.distplot(df['label'])"
   ]
  }
 ],
 "metadata": {
  "kernelspec": {
   "display_name": "Python 3",
   "language": "python",
   "name": "python3"
  },
  "language_info": {
   "codemirror_mode": {
    "name": "ipython",
    "version": 3
   },
   "file_extension": ".py",
   "mimetype": "text/x-python",
   "name": "python",
   "nbconvert_exporter": "python",
   "pygments_lexer": "ipython3",
   "version": "3.6.10"
  }
 },
 "nbformat": 4,
 "nbformat_minor": 4
}
